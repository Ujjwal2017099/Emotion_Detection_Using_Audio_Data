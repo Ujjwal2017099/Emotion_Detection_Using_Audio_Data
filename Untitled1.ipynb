{
  "nbformat": 4,
  "nbformat_minor": 0,
  "metadata": {
    "colab": {
      "provenance": [],
      "gpuType": "T4",
      "authorship_tag": "ABX9TyNXGEaEOd3SZ8J8HWrlvXVm",
      "include_colab_link": true
    },
    "kernelspec": {
      "name": "python3",
      "display_name": "Python 3"
    },
    "language_info": {
      "name": "python"
    },
    "accelerator": "GPU"
  },
  "cells": [
    {
      "cell_type": "markdown",
      "metadata": {
        "id": "view-in-github",
        "colab_type": "text"
      },
      "source": [
        "<a href=\"https://colab.research.google.com/github/Ujjwal2017099/Emotion_Detection_Using_Audio_Data/blob/main/Untitled1.ipynb\" target=\"_parent\"><img src=\"https://colab.research.google.com/assets/colab-badge.svg\" alt=\"Open In Colab\"/></a>"
      ]
    },
    {
      "cell_type": "code",
      "execution_count": 1,
      "metadata": {
        "colab": {
          "base_uri": "https://localhost:8080/"
        },
        "id": "KVLCGHXq3Enh",
        "outputId": "1a10bb1e-d034-41a2-e4e8-11678c7c36b2"
      },
      "outputs": [
        {
          "output_type": "stream",
          "name": "stdout",
          "text": [
            "Mounted at /content/drive\n"
          ]
        }
      ],
      "source": [
        "from google.colab import drive\n",
        "drive.mount(\"/content/drive\")"
      ]
    },
    {
      "cell_type": "code",
      "source": [
        "!pip install tensorflow-io"
      ],
      "metadata": {
        "colab": {
          "base_uri": "https://localhost:8080/"
        },
        "id": "lXppOIiL3PJF",
        "outputId": "79c8be2f-c904-4aee-ff46-6b85e13d2b06"
      },
      "execution_count": 2,
      "outputs": [
        {
          "output_type": "stream",
          "name": "stdout",
          "text": [
            "Collecting tensorflow-io\n",
            "  Downloading tensorflow_io-0.37.1-cp310-cp310-manylinux_2_17_x86_64.manylinux2014_x86_64.whl.metadata (14 kB)\n",
            "Requirement already satisfied: tensorflow-io-gcs-filesystem==0.37.1 in /usr/local/lib/python3.10/dist-packages (from tensorflow-io) (0.37.1)\n",
            "Downloading tensorflow_io-0.37.1-cp310-cp310-manylinux_2_17_x86_64.manylinux2014_x86_64.whl (49.6 MB)\n",
            "\u001b[2K   \u001b[90m━━━━━━━━━━━━━━━━━━━━━━━━━━━━━━━━━━━━━━━━\u001b[0m \u001b[32m49.6/49.6 MB\u001b[0m \u001b[31m11.5 MB/s\u001b[0m eta \u001b[36m0:00:00\u001b[0m\n",
            "\u001b[?25hInstalling collected packages: tensorflow-io\n",
            "Successfully installed tensorflow-io-0.37.1\n"
          ]
        }
      ]
    },
    {
      "cell_type": "code",
      "source": [
        "# import os\n",
        "# import shutil\n",
        "\n",
        "# source = '/content/drive/MyDrive/dataset/Train_data'\n",
        "# destination = '/content/'\n",
        "\n",
        "# # Move the folder\n",
        "# shutil.move(source, destination)"
      ],
      "metadata": {
        "id": "UVeJyM_v4qq8"
      },
      "execution_count": 3,
      "outputs": []
    },
    {
      "cell_type": "code",
      "source": [
        "import tensorflow as tf\n",
        "import numpy as np\n",
        "import matplotlib.pyplot as plt\n",
        "import tensorflow_io as tfio\n",
        "import os"
      ],
      "metadata": {
        "id": "y4fc4cWb4r6d"
      },
      "execution_count": 7,
      "outputs": []
    },
    {
      "cell_type": "code",
      "source": [
        "def load_wav_file(filepath):\n",
        "    wav_file = tf.io.read_file(filepath)\n",
        "    wav , sample_rate = tf.audio.decode_wav(contents=wav_file,desired_channels=1)\n",
        "    wav = tf.squeeze(wav,axis=-1)\n",
        "    sample_rate = tf.cast(sample_rate,dtype=tf.int64)\n",
        "    wav = tfio.audio.resample(wav,rate_in=sample_rate,rate_out=16000)\n",
        "    return wav"
      ],
      "metadata": {
        "id": "KuOWiHP271Zu"
      },
      "execution_count": 8,
      "outputs": []
    },
    {
      "cell_type": "code",
      "source": [
        "FILE_PATH = os.path.join('/content',\"drive\",\"MyDrive\",\"dataset\",'Train_data','Positive','1.wav')\n",
        "wav = load_wav_file(FILE_PATH)\n",
        "# tf.io.read_file(FILE_PATH)\n",
        "plt.plot(wav)\n",
        "plt.show()"
      ],
      "metadata": {
        "colab": {
          "base_uri": "https://localhost:8080/",
          "height": 430
        },
        "id": "4T4uXboJ7361",
        "outputId": "5c1999c4-33c4-45f6-b41a-96b60181eeab"
      },
      "execution_count": 9,
      "outputs": [
        {
          "output_type": "display_data",
          "data": {
            "text/plain": [
              "<Figure size 640x480 with 1 Axes>"
            ],
            "image/png": "[encoded data removed]"
          },
          "metadata": {}
        }
      ]
    },
    {
      "cell_type": "code",
      "source": [
        "!pip install ffmpeg"
      ],
      "metadata": {
        "colab": {
          "base_uri": "https://localhost:8080/"
        },
        "id": "UlmbYE3c77yN",
        "outputId": "99477c36-6011-461f-8089-8f18c7867138"
      },
      "execution_count": 10,
      "outputs": [
        {
          "output_type": "stream",
          "name": "stdout",
          "text": [
            "Collecting ffmpeg\n",
            "  Downloading ffmpeg-1.4.tar.gz (5.1 kB)\n",
            "  Preparing metadata (setup.py) ... \u001b[?25l\u001b[?25hdone\n",
            "Building wheels for collected packages: ffmpeg\n",
            "  Building wheel for ffmpeg (setup.py) ... \u001b[?25l\u001b[?25hdone\n",
            "  Created wheel for ffmpeg: filename=ffmpeg-1.4-py3-none-any.whl size=6083 sha256=27eafae3ccfd844440b0416d77502649d67cd1d0e338b5ecb6fe37d8609c7fad\n",
            "  Stored in directory: /root/.cache/pip/wheels/8e/7a/69/cd6aeb83b126a7f04cbe7c9d929028dc52a6e7d525ff56003a\n",
            "Successfully built ffmpeg\n",
            "Installing collected packages: ffmpeg\n",
            "Successfully installed ffmpeg-1.4\n"
          ]
        }
      ]
    },
    {
      "cell_type": "code",
      "source": [
        "# Example usage\n",
        "import subprocess\n",
        "NEG = '/content/drive/MyDrive/dataset/Train_data/Negative/'\n",
        "POS = '/content/drive/MyDrive/dataset/Train_data/Positive/'\n",
        "\n",
        "\n",
        "UPDATED_NEG = '/content/drive/MyDrive/dataset/Train_data/Updated_Negative/'\n",
        "UPDATED_POS = '/content/drive/MyDrive/dataset/Train_data/Updated_Positive/'\n",
        "\n",
        "os.makedirs(UPDATED_NEG, exist_ok=True)\n",
        "os.makedirs(UPDATED_POS, exist_ok=True)\n",
        "\n",
        "\n",
        "def convert_to_pcm(input_file, output_file):\n",
        "    \"\"\"\n",
        "    Convert a WAV file to PCM format using ffmpeg.\n",
        "    \"\"\"\n",
        "    command = [\n",
        "        'ffmpeg', '-y', '-i', input_file,\n",
        "        '-c:a', 'pcm_s16le',\n",
        "        output_file\n",
        "    ]\n",
        "    subprocess.run(command, stdout=subprocess.PIPE, stderr=subprocess.PIPE)\n",
        "\n",
        "def is_pcm(audio_file):\n",
        "    \"\"\"\n",
        "    Check if a WAV file is in PCM format.\n",
        "    \"\"\"\n",
        "    audio_binary = tf.io.read_file(audio_file)\n",
        "    try:\n",
        "        # Attempt to decode as PCM\n",
        "        audio, _ = tf.audio.decode_wav(audio_binary, desired_channels=1)\n",
        "        return True\n",
        "    except tf.errors.InvalidArgumentError:\n",
        "        return False\n",
        "\n",
        "# Iterate over all WAV files in the directory\n",
        "for filename in os.listdir(NEG):\n",
        "    if filename.endswith('.wav'):\n",
        "        input_file = os.path.join(NEG, filename)\n",
        "        output_file = os.path.join(UPDATED_NEG, filename)\n",
        "\n",
        "        # Check if the file is PCM\n",
        "        if not is_pcm(input_file):\n",
        "            print(f\"Converting {filename} to PCM format.\")\n",
        "            convert_to_pcm(input_file, output_file)\n",
        "        else:\n",
        "            # If it's already PCM, just copy it to the output directory\n",
        "            print(f\"{filename} is already in PCM format. Copying to output directory.\")\n",
        "            subprocess.run(['cp', input_file, output_file])\n",
        "\n",
        "for filename in os.listdir(POS):\n",
        "    if filename.endswith('.wav'):\n",
        "        input_file = os.path.join(POS, filename)\n",
        "        output_file = os.path.join(UPDATED_POS, filename)\n",
        "\n",
        "        # Check if the file is PCM\n",
        "        if not is_pcm(input_file):\n",
        "            print(f\"Converting {filename} to PCM format.\")\n",
        "            convert_to_pcm(input_file, output_file)\n",
        "        else:\n",
        "            # If it's already PCM, just copy it to the output directory\n",
        "            print(f\"{filename} is already in PCM format. Copying to output directory.\")\n",
        "            subprocess.run(['cp', input_file, output_file])\n",
        "\n",
        "print(\"Conversion complete.\")\n"
      ],
      "metadata": {
        "colab": {
          "base_uri": "https://localhost:8080/"
        },
        "id": "NTLPHspd7-ee",
        "outputId": "2f52119c-fbee-41e9-ec7a-0d15a81e9077"
      },
      "execution_count": 11,
      "outputs": [
        {
          "output_type": "stream",
          "name": "stdout",
          "text": [
            "241.wav is already in PCM format. Copying to output directory.\n",
            "333.wav is already in PCM format. Copying to output directory.\n",
            "282.wav is already in PCM format. Copying to output directory.\n",
            "340.wav is already in PCM format. Copying to output directory.\n",
            "Converting 299.wav to PCM format.\n",
            "283.wav is already in PCM format. Copying to output directory.\n",
            "303.wav is already in PCM format. Copying to output directory.\n",
            "Converting 305.wav to PCM format.\n",
            "256.wav is already in PCM format. Copying to output directory.\n",
            "273.wav is already in PCM format. Copying to output directory.\n",
            "243.wav is already in PCM format. Copying to output directory.\n",
            "279.wav is already in PCM format. Copying to output directory.\n",
            "244.wav is already in PCM format. Copying to output directory.\n",
            "Converting 287.wav to PCM format.\n",
            "Converting 353.wav to PCM format.\n",
            "346.wav is already in PCM format. Copying to output directory.\n",
            "Converting 242.wav to PCM format.\n",
            "310.wav is already in PCM format. Copying to output directory.\n",
            "288.wav is already in PCM format. Copying to output directory.\n",
            "342.wav is already in PCM format. Copying to output directory.\n",
            "291.wav is already in PCM format. Copying to output directory.\n",
            "319.wav is already in PCM format. Copying to output directory.\n",
            "Converting 248.wav to PCM format.\n",
            "Converting 323.wav to PCM format.\n",
            "Converting 344.wav to PCM format.\n",
            "352.wav is already in PCM format. Copying to output directory.\n",
            "301.wav is already in PCM format. Copying to output directory.\n",
            "327.wav is already in PCM format. Copying to output directory.\n",
            "313.wav is already in PCM format. Copying to output directory.\n",
            "343.wav is already in PCM format. Copying to output directory.\n",
            "255.wav is already in PCM format. Copying to output directory.\n",
            "Converting 347.wav to PCM format.\n",
            "Converting 317.wav to PCM format.\n",
            "292.wav is already in PCM format. Copying to output directory.\n",
            "336.wav is already in PCM format. Copying to output directory.\n",
            "Converting 272.wav to PCM format.\n",
            "247.wav is already in PCM format. Copying to output directory.\n",
            "274.wav is already in PCM format. Copying to output directory.\n",
            "355.wav is already in PCM format. Copying to output directory.\n",
            "262.wav is already in PCM format. Copying to output directory.\n",
            "337.wav is already in PCM format. Copying to output directory.\n",
            "261.wav is already in PCM format. Copying to output directory.\n",
            "276.wav is already in PCM format. Copying to output directory.\n",
            "339.wav is already in PCM format. Copying to output directory.\n",
            "253.wav is already in PCM format. Copying to output directory.\n",
            "Converting 269.wav to PCM format.\n",
            "Converting 254.wav to PCM format.\n",
            "250.wav is already in PCM format. Copying to output directory.\n",
            "Converting 329.wav to PCM format.\n",
            "354.wav is already in PCM format. Copying to output directory.\n",
            "289.wav is already in PCM format. Copying to output directory.\n",
            "328.wav is already in PCM format. Copying to output directory.\n",
            "Converting 284.wav to PCM format.\n",
            "Converting 350.wav to PCM format.\n",
            "357.wav is already in PCM format. Copying to output directory.\n",
            "Converting 266.wav to PCM format.\n",
            "264.wav is already in PCM format. Copying to output directory.\n",
            "295.wav is already in PCM format. Copying to output directory.\n",
            "Converting 308.wav to PCM format.\n",
            "307.wav is already in PCM format. Copying to output directory.\n",
            "Converting 302.wav to PCM format.\n",
            "270.wav is already in PCM format. Copying to output directory.\n",
            "331.wav is already in PCM format. Copying to output directory.\n",
            "Converting 293.wav to PCM format.\n",
            "297.wav is already in PCM format. Copying to output directory.\n",
            "316.wav is already in PCM format. Copying to output directory.\n",
            "258.wav is already in PCM format. Copying to output directory.\n",
            "Converting 251.wav to PCM format.\n",
            "330.wav is already in PCM format. Copying to output directory.\n",
            "Converting 314.wav to PCM format.\n",
            "Converting 278.wav to PCM format.\n",
            "Converting 281.wav to PCM format.\n",
            "Converting 332.wav to PCM format.\n",
            "252.wav is already in PCM format. Copying to output directory.\n",
            "349.wav is already in PCM format. Copying to output directory.\n",
            "321.wav is already in PCM format. Copying to output directory.\n",
            "Converting 245.wav to PCM format.\n",
            "306.wav is already in PCM format. Copying to output directory.\n",
            "318.wav is already in PCM format. Copying to output directory.\n",
            "286.wav is already in PCM format. Copying to output directory.\n",
            "280.wav is already in PCM format. Copying to output directory.\n",
            "Converting 275.wav to PCM format.\n",
            "334.wav is already in PCM format. Copying to output directory.\n",
            "324.wav is already in PCM format. Copying to output directory.\n",
            "246.wav is already in PCM format. Copying to output directory.\n",
            "Converting 263.wav to PCM format.\n",
            "271.wav is already in PCM format. Copying to output directory.\n",
            "109.wav is already in PCM format. Copying to output directory.\n",
            "Converting 53.wav to PCM format.\n",
            "79.wav is already in PCM format. Copying to output directory.\n",
            "Converting 71.wav to PCM format.\n",
            "Converting 11.wav to PCM format.\n",
            "Converting 47.wav to PCM format.\n",
            "1.wav is already in PCM format. Copying to output directory.\n",
            "Converting 5.wav to PCM format.\n",
            "Converting 14.wav to PCM format.\n",
            "Converting 101.wav to PCM format.\n",
            "30.wav is already in PCM format. Copying to output directory.\n",
            "24.wav is already in PCM format. Copying to output directory.\n",
            "58.wav is already in PCM format. Copying to output directory.\n",
            "Converting 74.wav to PCM format.\n",
            "93.wav is already in PCM format. Copying to output directory.\n",
            "Converting 89.wav to PCM format.\n",
            "Converting 62.wav to PCM format.\n",
            "73.wav is already in PCM format. Copying to output directory.\n",
            "Converting 50.wav to PCM format.\n",
            "6.wav is already in PCM format. Copying to output directory.\n",
            "120.wav is already in PCM format. Copying to output directory.\n",
            "Converting 38.wav to PCM format.\n",
            "108.wav is already in PCM format. Copying to output directory.\n",
            "Converting 77.wav to PCM format.\n",
            "60.wav is already in PCM format. Copying to output directory.\n",
            "9.wav is already in PCM format. Copying to output directory.\n",
            "55.wav is already in PCM format. Copying to output directory.\n",
            "97.wav is already in PCM format. Copying to output directory.\n",
            "36.wav is already in PCM format. Copying to output directory.\n",
            "Converting 68.wav to PCM format.\n",
            "96.wav is already in PCM format. Copying to output directory.\n",
            "22.wav is already in PCM format. Copying to output directory.\n",
            "40.wav is already in PCM format. Copying to output directory.\n",
            "91.wav is already in PCM format. Copying to output directory.\n",
            "102.wav is already in PCM format. Copying to output directory.\n",
            "Converting 17.wav to PCM format.\n",
            "3.wav is already in PCM format. Copying to output directory.\n",
            "52.wav is already in PCM format. Copying to output directory.\n",
            "Converting 110.wav to PCM format.\n",
            "111.wav is already in PCM format. Copying to output directory.\n",
            "103.wav is already in PCM format. Copying to output directory.\n",
            "39.wav is already in PCM format. Copying to output directory.\n",
            "18.wav is already in PCM format. Copying to output directory.\n",
            "117.wav is already in PCM format. Copying to output directory.\n",
            "82.wav is already in PCM format. Copying to output directory.\n",
            "85.wav is already in PCM format. Copying to output directory.\n",
            "54.wav is already in PCM format. Copying to output directory.\n",
            "76.wav is already in PCM format. Copying to output directory.\n",
            "67.wav is already in PCM format. Copying to output directory.\n",
            "16.wav is already in PCM format. Copying to output directory.\n",
            "Converting 32.wav to PCM format.\n",
            "48.wav is already in PCM format. Copying to output directory.\n",
            "90.wav is already in PCM format. Copying to output directory.\n",
            "43.wav is already in PCM format. Copying to output directory.\n",
            "63.wav is already in PCM format. Copying to output directory.\n",
            "10.wav is already in PCM format. Copying to output directory.\n",
            "37.wav is already in PCM format. Copying to output directory.\n",
            "Converting 29.wav to PCM format.\n",
            "114.wav is already in PCM format. Copying to output directory.\n",
            "106.wav is already in PCM format. Copying to output directory.\n",
            "Converting 107.wav to PCM format.\n",
            "21.wav is already in PCM format. Copying to output directory.\n",
            "100.wav is already in PCM format. Copying to output directory.\n",
            "69.wav is already in PCM format. Copying to output directory.\n",
            "Converting 80.wav to PCM format.\n",
            "70.wav is already in PCM format. Copying to output directory.\n",
            "Converting 83.wav to PCM format.\n",
            "99.wav is already in PCM format. Copying to output directory.\n",
            "118.wav is already in PCM format. Copying to output directory.\n",
            "Converting 20.wav to PCM format.\n",
            "105.wav is already in PCM format. Copying to output directory.\n",
            "64.wav is already in PCM format. Copying to output directory.\n",
            "12.wav is already in PCM format. Copying to output directory.\n",
            "78.wav is already in PCM format. Copying to output directory.\n",
            "Converting 116.wav to PCM format.\n",
            "49.wav is already in PCM format. Copying to output directory.\n",
            "28.wav is already in PCM format. Copying to output directory.\n",
            "Converting 44.wav to PCM format.\n",
            "31.wav is already in PCM format. Copying to output directory.\n",
            "Converting 2.wav to PCM format.\n",
            "46.wav is already in PCM format. Copying to output directory.\n",
            "Converting 104.wav to PCM format.\n",
            "Conversion complete.\n"
          ]
        }
      ]
    },
    {
      "cell_type": "code",
      "source": [
        "neg_dataset = tf.data.Dataset.list_files(UPDATED_NEG+'*.wav')\n",
        "pos_dataset = tf.data.Dataset.list_files(UPDATED_POS+'*.wav')"
      ],
      "metadata": {
        "id": "55RnF-Y48CQV"
      },
      "execution_count": 12,
      "outputs": []
    },
    {
      "cell_type": "code",
      "source": [
        "positive = tf.data.Dataset.zip((pos_dataset,tf.data.Dataset.from_tensor_slices(tf.ones(len(pos_dataset)))))\n",
        "negative = tf.data.Dataset.zip((neg_dataset,tf.data.Dataset.from_tensor_slices(tf.zeros(len(neg_dataset)))))\n",
        "data = positive.concatenate(negative)"
      ],
      "metadata": {
        "id": "_UAvKmsO8Ose"
      },
      "execution_count": 13,
      "outputs": []
    },
    {
      "cell_type": "code",
      "source": [
        "data.shuffle(10000)\n",
        "data.as_numpy_iterator().next()"
      ],
      "metadata": {
        "colab": {
          "base_uri": "https://localhost:8080/"
        },
        "id": "z8DpKGGT8RYG",
        "outputId": "276d0699-83fa-4e5a-ab00-c8781d9533cf"
      },
      "execution_count": 14,
      "outputs": [
        {
          "output_type": "execute_result",
          "data": {
            "text/plain": [
              "(b'/content/drive/MyDrive/dataset/Train_data/Updated_Positive/111.wav', 1.0)"
            ]
          },
          "metadata": {},
          "execution_count": 14
        }
      ]
    },
    {
      "cell_type": "code",
      "source": [
        "def preprocess(file_path,label):\n",
        "    wav = load_wav_file(file_path)\n",
        "    wav = wav[:48000]\n",
        "    zero_padding = tf.zeros([48000]-tf.shape(wav),dtype=tf.float32)\n",
        "    wav = tf.concat([zero_padding,wav],0)\n",
        "    spectrogram = tf.signal.stft(wav,frame_length=320,frame_step=32)\n",
        "    spectrogram = tf.abs(spectrogram)\n",
        "    spectrogram = tf.expand_dims(spectrogram,axis=-1)\n",
        "    return spectrogram,label\n"
      ],
      "metadata": {
        "id": "VnLhq_aV8W0N"
      },
      "execution_count": 15,
      "outputs": []
    },
    {
      "cell_type": "code",
      "source": [
        "path , label = data.as_numpy_iterator().next()\n",
        "spectrogram,label = preprocess(path,label)\n",
        "spectrogram.shape"
      ],
      "metadata": {
        "colab": {
          "base_uri": "https://localhost:8080/"
        },
        "id": "-E3N7m198YqG",
        "outputId": "f16b57c6-81f5-4f60-861f-bce99f482551"
      },
      "execution_count": 16,
      "outputs": [
        {
          "output_type": "execute_result",
          "data": {
            "text/plain": [
              "TensorShape([1491, 257, 1])"
            ]
          },
          "metadata": {},
          "execution_count": 16
        }
      ]
    },
    {
      "cell_type": "code",
      "source": [
        "plt.imshow(tf.transpose(spectrogram)[0])\n",
        "plt.show()"
      ],
      "metadata": {
        "colab": {
          "base_uri": "https://localhost:8080/",
          "height": 151
        },
        "id": "IJQZNDNM8cY9",
        "outputId": "2807dfb0-2d91-4747-cc25-4bc5f8adfecb"
      },
      "execution_count": 17,
      "outputs": [
        {
          "output_type": "display_data",
          "data": {
            "text/plain": [
              "<Figure size 640x480 with 1 Axes>"
            ],
            "image/png": "[encoded data removed]"
          },
          "metadata": {}
        }
      ]
    },
    {
      "cell_type": "code",
      "source": [
        "data = data.map(preprocess)\n"
      ],
      "metadata": {
        "colab": {
          "base_uri": "https://localhost:8080/"
        },
        "id": "yE27pc-K8eZ-",
        "outputId": "b3ea9bc4-c907-42a4-8ea3-d046e63f8150"
      },
      "execution_count": 18,
      "outputs": [
        {
          "output_type": "stream",
          "name": "stderr",
          "text": [
            "WARNING:tensorflow:Using a while_loop for converting IO>AudioResample cause there is no registered converter for this op.\n"
          ]
        }
      ]
    },
    {
      "cell_type": "code",
      "source": [
        "def set_shapes(features, labels):\n",
        "    features.set_shape((1491, 257, 1))\n",
        "    labels=tf.expand_dims(labels,-1)\n",
        "    labels.set_shape((1,))\n",
        "    return features, labels\n",
        "\n",
        "data = data.map(set_shapes)"
      ],
      "metadata": {
        "id": "N6ppQums8h42"
      },
      "execution_count": 19,
      "outputs": []
    },
    {
      "cell_type": "code",
      "source": [
        "data = data.batch(16)\n",
        "data = data.prefetch(8)\n",
        "\n",
        "data.take(1)"
      ],
      "metadata": {
        "colab": {
          "base_uri": "https://localhost:8080/"
        },
        "id": "wizl9kFA8jX-",
        "outputId": "073ea745-6f76-4ae1-dcec-afdaffbe6c38"
      },
      "execution_count": 20,
      "outputs": [
        {
          "output_type": "execute_result",
          "data": {
            "text/plain": [
              "<_TakeDataset element_spec=(TensorSpec(shape=(None, 1491, 257, 1), dtype=tf.float32, name=None), TensorSpec(shape=(None, 1), dtype=tf.float32, name=None))>"
            ]
          },
          "metadata": {},
          "execution_count": 20
        }
      ]
    },
    {
      "cell_type": "code",
      "source": [
        "len(data)*0.7"
      ],
      "metadata": {
        "colab": {
          "base_uri": "https://localhost:8080/"
        },
        "id": "OfeP76MR8lht",
        "outputId": "04cf6056-0106-4681-fdc3-5d30f4c279df"
      },
      "execution_count": 21,
      "outputs": [
        {
          "output_type": "execute_result",
          "data": {
            "text/plain": [
              "7.699999999999999"
            ]
          },
          "metadata": {},
          "execution_count": 21
        }
      ]
    },
    {
      "cell_type": "code",
      "source": [
        "train = data.take(7)\n",
        "val = data.skip(7).take(2)\n",
        "test = data.skip(9).take(2)\n"
      ],
      "metadata": {
        "id": "cvDpHWJ58n8d"
      },
      "execution_count": 22,
      "outputs": []
    },
    {
      "cell_type": "code",
      "source": [
        "from tensorflow.keras.models import Sequential\n",
        "from tensorflow.keras.layers import Conv2D,Dense,MaxPool2D,Flatten"
      ],
      "metadata": {
        "id": "N9TW6YuZ8pWM"
      },
      "execution_count": 23,
      "outputs": []
    },
    {
      "cell_type": "code",
      "source": [
        "model = Sequential()\n",
        "model.add(Conv2D(16,(3,3),activation='relu',input_shape=(1491,257,1)))\n",
        "model.add(Conv2D(16,(3,3),activation='relu'))\n",
        "model.add(MaxPool2D())\n",
        "model.add(Flatten())\n",
        "model.add(Dense(128,activation='relu'))\n",
        "model.add(Dense(1,activation='sigmoid'))"
      ],
      "metadata": {
        "id": "Mj5SsaSC8rxF"
      },
      "execution_count": 37,
      "outputs": []
    },
    {
      "cell_type": "code",
      "source": [
        "model.compile(optimizer='Adam',loss='BinaryCrossentropy',metrics=[tf.keras.metrics.Recall(),tf.keras.metrics.Precision(),\"accuracy\"])"
      ],
      "metadata": {
        "id": "CgnoZrFS8uPN"
      },
      "execution_count": 38,
      "outputs": []
    },
    {
      "cell_type": "code",
      "source": [
        "model.summary()"
      ],
      "metadata": {
        "colab": {
          "base_uri": "https://localhost:8080/",
          "height": 321
        },
        "id": "fcypnjZZ8w89",
        "outputId": "302e4c8c-e6cc-44c2-f36b-40e471370193"
      },
      "execution_count": 39,
      "outputs": [
        {
          "output_type": "display_data",
          "data": {
            "text/plain": [
              "\u001b[1mModel: \"sequential_2\"\u001b[0m\n"
            ],
            "text/html": [
              "<pre style=\"white-space:pre;overflow-x:auto;line-height:normal;font-family:Menlo,'DejaVu Sans Mono',consolas,'Courier New',monospace\"><span style=\"font-weight: bold\">Model: \"sequential_2\"</span>\n",
              "</pre>\n"
            ]
          },
          "metadata": {}
        },
        {
          "output_type": "display_data",
          "data": {
            "text/plain": [
              "┏━━━━━━━━━━━━━━━━━━━━━━━━━━━━━━━━━━━━━━┳━━━━━━━━━━━━━━━━━━━━━━━━━━━━━┳━━━━━━━━━━━━━━━━━┓\n",
              "┃\u001b[1m \u001b[0m\u001b[1mLayer (type)                        \u001b[0m\u001b[1m \u001b[0m┃\u001b[1m \u001b[0m\u001b[1mOutput Shape               \u001b[0m\u001b[1m \u001b[0m┃\u001b[1m \u001b[0m\u001b[1m        Param #\u001b[0m\u001b[1m \u001b[0m┃\n",
              "┡━━━━━━━━━━━━━━━━━━━━━━━━━━━━━━━━━━━━━━╇━━━━━━━━━━━━━━━━━━━━━━━━━━━━━╇━━━━━━━━━━━━━━━━━┩\n",
              "│ conv2d_4 (\u001b[38;5;33mConv2D\u001b[0m)                    │ (\u001b[38;5;45mNone\u001b[0m, \u001b[38;5;34m1489\u001b[0m, \u001b[38;5;34m255\u001b[0m, \u001b[38;5;34m16\u001b[0m)       │             \u001b[38;5;34m160\u001b[0m │\n",
              "├──────────────────────────────────────┼─────────────────────────────┼─────────────────┤\n",
              "│ conv2d_5 (\u001b[38;5;33mConv2D\u001b[0m)                    │ (\u001b[38;5;45mNone\u001b[0m, \u001b[38;5;34m1487\u001b[0m, \u001b[38;5;34m253\u001b[0m, \u001b[38;5;34m16\u001b[0m)       │           \u001b[38;5;34m2,320\u001b[0m │\n",
              "├──────────────────────────────────────┼─────────────────────────────┼─────────────────┤\n",
              "│ max_pooling2d_2 (\u001b[38;5;33mMaxPooling2D\u001b[0m)       │ (\u001b[38;5;45mNone\u001b[0m, \u001b[38;5;34m743\u001b[0m, \u001b[38;5;34m126\u001b[0m, \u001b[38;5;34m16\u001b[0m)        │               \u001b[38;5;34m0\u001b[0m │\n",
              "├──────────────────────────────────────┼─────────────────────────────┼─────────────────┤\n",
              "│ flatten_2 (\u001b[38;5;33mFlatten\u001b[0m)                  │ (\u001b[38;5;45mNone\u001b[0m, \u001b[38;5;34m1497888\u001b[0m)             │               \u001b[38;5;34m0\u001b[0m │\n",
              "├──────────────────────────────────────┼─────────────────────────────┼─────────────────┤\n",
              "│ dense_4 (\u001b[38;5;33mDense\u001b[0m)                      │ (\u001b[38;5;45mNone\u001b[0m, \u001b[38;5;34m128\u001b[0m)                 │     \u001b[38;5;34m191,729,792\u001b[0m │\n",
              "├──────────────────────────────────────┼─────────────────────────────┼─────────────────┤\n",
              "│ dense_5 (\u001b[38;5;33mDense\u001b[0m)                      │ (\u001b[38;5;45mNone\u001b[0m, \u001b[38;5;34m1\u001b[0m)                   │             \u001b[38;5;34m129\u001b[0m │\n",
              "└──────────────────────────────────────┴─────────────────────────────┴─────────────────┘\n"
            ],
            "text/html": [
              "<pre style=\"white-space:pre;overflow-x:auto;line-height:normal;font-family:Menlo,'DejaVu Sans Mono',consolas,'Courier New',monospace\">┏━━━━━━━━━━━━━━━━━━━━━━━━━━━━━━━━━━━━━━┳━━━━━━━━━━━━━━━━━━━━━━━━━━━━━┳━━━━━━━━━━━━━━━━━┓\n",
              "┃<span style=\"font-weight: bold\"> Layer (type)                         </span>┃<span style=\"font-weight: bold\"> Output Shape                </span>┃<span style=\"font-weight: bold\">         Param # </span>┃\n",
              "┡━━━━━━━━━━━━━━━━━━━━━━━━━━━━━━━━━━━━━━╇━━━━━━━━━━━━━━━━━━━━━━━━━━━━━╇━━━━━━━━━━━━━━━━━┩\n",
              "│ conv2d_4 (<span style=\"color: #0087ff; text-decoration-color: #0087ff\">Conv2D</span>)                    │ (<span style=\"color: #00d7ff; text-decoration-color: #00d7ff\">None</span>, <span style=\"color: #00af00; text-decoration-color: #00af00\">1489</span>, <span style=\"color: #00af00; text-decoration-color: #00af00\">255</span>, <span style=\"color: #00af00; text-decoration-color: #00af00\">16</span>)       │             <span style=\"color: #00af00; text-decoration-color: #00af00\">160</span> │\n",
              "├──────────────────────────────────────┼─────────────────────────────┼─────────────────┤\n",
              "│ conv2d_5 (<span style=\"color: #0087ff; text-decoration-color: #0087ff\">Conv2D</span>)                    │ (<span style=\"color: #00d7ff; text-decoration-color: #00d7ff\">None</span>, <span style=\"color: #00af00; text-decoration-color: #00af00\">1487</span>, <span style=\"color: #00af00; text-decoration-color: #00af00\">253</span>, <span style=\"color: #00af00; text-decoration-color: #00af00\">16</span>)       │           <span style=\"color: #00af00; text-decoration-color: #00af00\">2,320</span> │\n",
              "├──────────────────────────────────────┼─────────────────────────────┼─────────────────┤\n",
              "│ max_pooling2d_2 (<span style=\"color: #0087ff; text-decoration-color: #0087ff\">MaxPooling2D</span>)       │ (<span style=\"color: #00d7ff; text-decoration-color: #00d7ff\">None</span>, <span style=\"color: #00af00; text-decoration-color: #00af00\">743</span>, <span style=\"color: #00af00; text-decoration-color: #00af00\">126</span>, <span style=\"color: #00af00; text-decoration-color: #00af00\">16</span>)        │               <span style=\"color: #00af00; text-decoration-color: #00af00\">0</span> │\n",
              "├──────────────────────────────────────┼─────────────────────────────┼─────────────────┤\n",
              "│ flatten_2 (<span style=\"color: #0087ff; text-decoration-color: #0087ff\">Flatten</span>)                  │ (<span style=\"color: #00d7ff; text-decoration-color: #00d7ff\">None</span>, <span style=\"color: #00af00; text-decoration-color: #00af00\">1497888</span>)             │               <span style=\"color: #00af00; text-decoration-color: #00af00\">0</span> │\n",
              "├──────────────────────────────────────┼─────────────────────────────┼─────────────────┤\n",
              "│ dense_4 (<span style=\"color: #0087ff; text-decoration-color: #0087ff\">Dense</span>)                      │ (<span style=\"color: #00d7ff; text-decoration-color: #00d7ff\">None</span>, <span style=\"color: #00af00; text-decoration-color: #00af00\">128</span>)                 │     <span style=\"color: #00af00; text-decoration-color: #00af00\">191,729,792</span> │\n",
              "├──────────────────────────────────────┼─────────────────────────────┼─────────────────┤\n",
              "│ dense_5 (<span style=\"color: #0087ff; text-decoration-color: #0087ff\">Dense</span>)                      │ (<span style=\"color: #00d7ff; text-decoration-color: #00d7ff\">None</span>, <span style=\"color: #00af00; text-decoration-color: #00af00\">1</span>)                   │             <span style=\"color: #00af00; text-decoration-color: #00af00\">129</span> │\n",
              "└──────────────────────────────────────┴─────────────────────────────┴─────────────────┘\n",
              "</pre>\n"
            ]
          },
          "metadata": {}
        },
        {
          "output_type": "display_data",
          "data": {
            "text/plain": [
              "\u001b[1m Total params: \u001b[0m\u001b[38;5;34m191,732,401\u001b[0m (731.40 MB)\n"
            ],
            "text/html": [
              "<pre style=\"white-space:pre;overflow-x:auto;line-height:normal;font-family:Menlo,'DejaVu Sans Mono',consolas,'Courier New',monospace\"><span style=\"font-weight: bold\"> Total params: </span><span style=\"color: #00af00; text-decoration-color: #00af00\">191,732,401</span> (731.40 MB)\n",
              "</pre>\n"
            ]
          },
          "metadata": {}
        },
        {
          "output_type": "display_data",
          "data": {
            "text/plain": [
              "\u001b[1m Trainable params: \u001b[0m\u001b[38;5;34m191,732,401\u001b[0m (731.40 MB)\n"
            ],
            "text/html": [
              "<pre style=\"white-space:pre;overflow-x:auto;line-height:normal;font-family:Menlo,'DejaVu Sans Mono',consolas,'Courier New',monospace\"><span style=\"font-weight: bold\"> Trainable params: </span><span style=\"color: #00af00; text-decoration-color: #00af00\">191,732,401</span> (731.40 MB)\n",
              "</pre>\n"
            ]
          },
          "metadata": {}
        },
        {
          "output_type": "display_data",
          "data": {
            "text/plain": [
              "\u001b[1m Non-trainable params: \u001b[0m\u001b[38;5;34m0\u001b[0m (0.00 B)\n"
            ],
            "text/html": [
              "<pre style=\"white-space:pre;overflow-x:auto;line-height:normal;font-family:Menlo,'DejaVu Sans Mono',consolas,'Courier New',monospace\"><span style=\"font-weight: bold\"> Non-trainable params: </span><span style=\"color: #00af00; text-decoration-color: #00af00\">0</span> (0.00 B)\n",
              "</pre>\n"
            ]
          },
          "metadata": {}
        }
      ]
    },
    {
      "cell_type": "code",
      "source": [
        "history = model.fit(train,epochs=2,validation_data=val)"
      ],
      "metadata": {
        "colab": {
          "base_uri": "https://localhost:8080/"
        },
        "id": "5bHx86cI8yu2",
        "outputId": "39b6c339-498f-4348-97ff-2df163000af5"
      },
      "execution_count": 41,
      "outputs": [
        {
          "output_type": "stream",
          "name": "stdout",
          "text": [
            "Epoch 1/2\n",
            "\u001b[1m7/7\u001b[0m \u001b[32m━━━━━━━━━━━━━━━━━━━━\u001b[0m\u001b[37m\u001b[0m \u001b[1m19s\u001b[0m 3s/step - accuracy: 0.9587 - loss: 1.4493 - precision_2: 0.9722 - recall_2: 0.9777 - val_accuracy: 0.7812 - val_loss: 12.6235 - val_precision_2: 0.0000e+00 - val_recall_2: 0.0000e+00\n",
            "Epoch 2/2\n",
            "\u001b[1m7/7\u001b[0m \u001b[32m━━━━━━━━━━━━━━━━━━━━\u001b[0m\u001b[37m\u001b[0m \u001b[1m17s\u001b[0m 3s/step - accuracy: 0.6084 - loss: 0.8713 - precision_2: 0.9948 - recall_2: 0.5743 - val_accuracy: 0.9688 - val_loss: 0.5091 - val_precision_2: 0.0000e+00 - val_recall_2: 0.0000e+00\n"
          ]
        }
      ]
    },
    {
      "cell_type": "code",
      "source": [
        "plt.plot(history.history['loss'],label='loss')\n",
        "plt.plot(history.history['val_loss'],label='val_loss')\n",
        "plt.legend()\n",
        "plt.show()"
      ],
      "metadata": {
        "colab": {
          "base_uri": "https://localhost:8080/",
          "height": 430
        },
        "id": "RKIZlOHm81Em",
        "outputId": "e6159949-caf3-4b9b-90a8-db7481175e45"
      },
      "execution_count": 42,
      "outputs": [
        {
          "output_type": "display_data",
          "data": {
            "text/plain": [
              "<Figure size 640x480 with 1 Axes>"
            ],
            "image/png": "[encoded data removed]"
          },
          "metadata": {}
        }
      ]
    },
    {
      "cell_type": "code",
      "source": [
        "plt.plot(history.history['accuracy'],label='accuracy')\n",
        "plt.plot(history.history['val_accuracy'],label='val_accuracy')\n",
        "plt.legend()\n",
        "plt.show()"
      ],
      "metadata": {
        "colab": {
          "base_uri": "https://localhost:8080/",
          "height": 430
        },
        "id": "KP2rabYH83k4",
        "outputId": "02574857-7d4c-4065-b74c-47061f0edbd2"
      },
      "execution_count": 43,
      "outputs": [
        {
          "output_type": "display_data",
          "data": {
            "text/plain": [
              "<Figure size 640x480 with 1 Axes>"
            ],
            "image/png": "[encoded data removed]"
          },
          "metadata": {}
        }
      ]
    },
    {
      "cell_type": "code",
      "source": [
        "plt.plot(history.history['recall_2'],label='recall')\n",
        "plt.plot(history.history['val_recall_2'],label='val_recall')\n",
        "plt.legend()\n",
        "plt.show()"
      ],
      "metadata": {
        "colab": {
          "base_uri": "https://localhost:8080/",
          "height": 431
        },
        "id": "z879eiag85Em",
        "outputId": "a4abf7f4-e930-4842-a334-5d5daa1b8a36"
      },
      "execution_count": 45,
      "outputs": [
        {
          "output_type": "display_data",
          "data": {
            "text/plain": [
              "<Figure size 640x480 with 1 Axes>"
            ],
            "image/png": "[encoded data removed]"
          },
          "metadata": {}
        }
      ]
    },
    {
      "cell_type": "code",
      "source": [
        "plt.plot(history.history['precision_2'],label='precision')\n",
        "plt.plot(history.history['val_precision_2'],label='val_precision')\n",
        "plt.legend()\n",
        "plt.show()"
      ],
      "metadata": {
        "colab": {
          "base_uri": "https://localhost:8080/",
          "height": 430
        },
        "id": "Rv-QbUdb86dW",
        "outputId": "bbf6df4c-8d7b-4c23-a586-5d3e887205e2"
      },
      "execution_count": 46,
      "outputs": [
        {
          "output_type": "display_data",
          "data": {
            "text/plain": [
              "<Figure size 640x480 with 1 Axes>"
            ],
            "image/png": "[encoded data removed]"
          },
          "metadata": {}
        }
      ]
    },
    {
      "cell_type": "code",
      "source": [
        "model.evaluate(test)"
      ],
      "metadata": {
        "colab": {
          "base_uri": "https://localhost:8080/"
        },
        "id": "ie58X2Fl8712",
        "outputId": "dd76eccf-5ea1-41af-f477-8eafdb71f73a"
      },
      "execution_count": 47,
      "outputs": [
        {
          "output_type": "stream",
          "name": "stdout",
          "text": [
            "\u001b[1m2/2\u001b[0m \u001b[32m━━━━━━━━━━━━━━━━━━━━\u001b[0m\u001b[37m\u001b[0m \u001b[1m10s\u001b[0m 557ms/step - accuracy: 1.0000 - loss: 0.5019 - precision_2: 0.0000e+00 - recall_2: 0.0000e+00\n"
          ]
        },
        {
          "output_type": "execute_result",
          "data": {
            "text/plain": [
              "[0.5199602246284485, 0.0, 0.0, 1.0]"
            ]
          },
          "metadata": {},
          "execution_count": 47
        }
      ]
    },
    {
      "cell_type": "code",
      "source": [],
      "metadata": {
        "id": "EaGyNNLrATEO"
      },
      "execution_count": null,
      "outputs": []
    }
  ]
}